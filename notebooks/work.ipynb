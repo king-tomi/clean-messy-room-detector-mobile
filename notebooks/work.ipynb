{
 "metadata": {
  "language_info": {
   "codemirror_mode": {
    "name": "ipython",
    "version": 3
   },
   "file_extension": ".py",
   "mimetype": "text/x-python",
   "name": "python",
   "nbconvert_exporter": "python",
   "pygments_lexer": "ipython3",
   "version": "3.9.3"
  },
  "orig_nbformat": 4,
  "kernelspec": {
   "name": "python3",
   "display_name": "Python 3.9.3 64-bit"
  },
  "interpreter": {
   "hash": "c8d66f00836623ad9c59f7bb810fc52d07b4680f1b7e2ac0665d76e452313fbf"
  }
 },
 "nbformat": 4,
 "nbformat_minor": 2,
 "cells": [
  {
   "cell_type": "code",
   "execution_count": 1,
   "source": [
    "from PIL import Image\r\n",
    "import matplotlib.pyplot as plt\r\n",
    "from tensorflow import keras"
   ],
   "outputs": [],
   "metadata": {}
  },
  {
   "cell_type": "code",
   "execution_count": 2,
   "source": [
    "import os\r\n",
    "import pandas as pd\r\n",
    "import numpy as np"
   ],
   "outputs": [],
   "metadata": {}
  },
  {
   "cell_type": "code",
   "execution_count": 3,
   "source": [
    "def get_images(directory: str, label: str) -> list:\r\n",
    "    \"\"\"return all images in a directory as a list\"\"\"\r\n",
    "    return [(os.path.join(directory,item), label) for item in os.listdir(directory)]"
   ],
   "outputs": [],
   "metadata": {}
  },
  {
   "cell_type": "code",
   "execution_count": 4,
   "source": [
    "def get_images_without_label(directory: str) -> list:\r\n",
    "    \"\"\"return all test images in a directory as a list\"\"\"\r\n",
    "    return [os.path.join(directory, item) for item in os.listdir(directory)]"
   ],
   "outputs": [],
   "metadata": {}
  },
  {
   "cell_type": "code",
   "execution_count": 5,
   "source": [
    "def create_dataframe(data: list) -> pd.DataFrame:\r\n",
    "    \"\"\"create images from a list and return a dataframe\"\"\"\r\n",
    "    df = pd.DataFrame()\r\n",
    "    image = []\r\n",
    "    label = []\r\n",
    "    for item in data:\r\n",
    "        image.append(plt.imread(item[0]))\r\n",
    "        label.append(item[1])\r\n",
    "    df[\"image\"] = image\r\n",
    "    df[\"label\"] = label\r\n",
    "    \r\n",
    "    return df"
   ],
   "outputs": [],
   "metadata": {}
  },
  {
   "cell_type": "code",
   "execution_count": 6,
   "source": [
    "def create_dataframe_without_label(data: list) -> pd.DataFrame:\r\n",
    "    \"\"\"create images from a list and return a dataframe\"\"\"\r\n",
    "    df = pd.DataFrame()\r\n",
    "    image = []\r\n",
    "    for item in data:\r\n",
    "        image.append(plt.imread(item))\r\n",
    "    df[\"image\"] = image\r\n",
    "    \r\n",
    "    return df"
   ],
   "outputs": [],
   "metadata": {}
  },
  {
   "cell_type": "code",
   "execution_count": 7,
   "source": [
    "train_clean_folder = \"../images/train/clean/\"\r\n",
    "train_messy_folder = \"../images/train/messy/\"\r\n",
    "\r\n",
    "test_folder = \"../images/test/\"\r\n",
    "\r\n",
    "val_clean_folder = \"../images/val/clean/\"\r\n",
    "val_messy_folder = \"../images/val/messy/\""
   ],
   "outputs": [],
   "metadata": {}
  },
  {
   "cell_type": "code",
   "execution_count": 8,
   "source": [
    "tem = get_images(train_clean_folder,\"clean\")"
   ],
   "outputs": [],
   "metadata": {}
  },
  {
   "cell_type": "code",
   "execution_count": 9,
   "source": [
    "cle = create_dataframe(tem)"
   ],
   "outputs": [],
   "metadata": {}
  },
  {
   "cell_type": "code",
   "execution_count": 10,
   "source": [
    "mes = get_images(train_messy_folder, \"messy\")\r\n",
    "mes_df = create_dataframe(mes)"
   ],
   "outputs": [],
   "metadata": {}
  },
  {
   "cell_type": "code",
   "execution_count": 11,
   "source": [
    "mes_df = mes_df.set_index(pd.Index(range(96,192)))"
   ],
   "outputs": [],
   "metadata": {}
  },
  {
   "cell_type": "code",
   "execution_count": 12,
   "source": [
    "train_df = pd.concat([cle, mes_df])"
   ],
   "outputs": [],
   "metadata": {}
  },
  {
   "cell_type": "code",
   "execution_count": 13,
   "source": [
    "train_df[\"label\"].value_counts()"
   ],
   "outputs": [
    {
     "output_type": "execute_result",
     "data": {
      "text/plain": [
       "messy    96\n",
       "clean    96\n",
       "Name: label, dtype: int64"
      ]
     },
     "metadata": {},
     "execution_count": 13
    }
   ],
   "metadata": {}
  },
  {
   "cell_type": "markdown",
   "source": [
    "### DEFINE MODEL ARCHITECTURE"
   ],
   "metadata": {}
  },
  {
   "cell_type": "code",
   "execution_count": 14,
   "source": [
    "from tensorflow.keras import layers"
   ],
   "outputs": [],
   "metadata": {}
  },
  {
   "cell_type": "code",
   "execution_count": 15,
   "source": [
    "train_df.info()"
   ],
   "outputs": [
    {
     "output_type": "stream",
     "name": "stdout",
     "text": [
      "<class 'pandas.core.frame.DataFrame'>\n",
      "RangeIndex: 192 entries, 0 to 191\n",
      "Data columns (total 2 columns):\n",
      " #   Column  Non-Null Count  Dtype \n",
      "---  ------  --------------  ----- \n",
      " 0   image   192 non-null    object\n",
      " 1   label   192 non-null    object\n",
      "dtypes: object(2)\n",
      "memory usage: 3.1+ KB\n"
     ]
    }
   ],
   "metadata": {}
  },
  {
   "cell_type": "code",
   "execution_count": 16,
   "source": [
    "train_df[\"image\"][0].shape"
   ],
   "outputs": [
    {
     "output_type": "execute_result",
     "data": {
      "text/plain": [
       "(299, 299, 3)"
      ]
     },
     "metadata": {},
     "execution_count": 16
    }
   ],
   "metadata": {}
  },
  {
   "cell_type": "code",
   "execution_count": 17,
   "source": [
    "train_df = train_df.sample(frac=1, random_state=1)"
   ],
   "outputs": [],
   "metadata": {}
  },
  {
   "cell_type": "code",
   "execution_count": 18,
   "source": [
    "X = np.array([item for item in train_df[\"image\"]])\r\n",
    "X.shape"
   ],
   "outputs": [
    {
     "output_type": "execute_result",
     "data": {
      "text/plain": [
       "(192, 299, 299, 3)"
      ]
     },
     "metadata": {},
     "execution_count": 18
    }
   ],
   "metadata": {}
  },
  {
   "cell_type": "code",
   "execution_count": 20,
   "source": [
    "Y = train_df[\"label\"].map(lambda x: 1 if x == \"clean\" else 0)"
   ],
   "outputs": [],
   "metadata": {}
  },
  {
   "cell_type": "code",
   "execution_count": 21,
   "source": [
    "sam_t = get_images_without_label(test_folder)\r\n",
    "\r\n",
    "test_df = create_dataframe_without_label(sam_t)"
   ],
   "outputs": [],
   "metadata": {}
  },
  {
   "cell_type": "code",
   "execution_count": 22,
   "source": [
    "val_clean_list = get_images(val_clean_folder, \"clean\")\r\n",
    "val_messy_list = get_images(val_messy_folder, \"messy\")\r\n",
    "\r\n",
    "val_clean_df = create_dataframe(val_clean_list)\r\n",
    "val_messy_df = create_dataframe(val_messy_list).set_index(pd.Index(range(10,20)))"
   ],
   "outputs": [],
   "metadata": {}
  },
  {
   "cell_type": "code",
   "execution_count": 23,
   "source": [
    "validation_df = pd.concat([val_clean_df, val_messy_df]).sample(frac=1, random_state=1)"
   ],
   "outputs": [],
   "metadata": {}
  },
  {
   "cell_type": "code",
   "execution_count": 24,
   "source": [
    "val_data = np.array([item for item in validation_df[\"image\"]])"
   ],
   "outputs": [],
   "metadata": {}
  },
  {
   "cell_type": "code",
   "execution_count": 25,
   "source": [
    "val_label = validation_df[\"label\"].map(lambda x: 1 if x == \"clean\" else 0)"
   ],
   "outputs": [],
   "metadata": {}
  },
  {
   "cell_type": "code",
   "execution_count": 26,
   "source": [
    "model = keras.Sequential()\r\n",
    "\r\n",
    "model.add(layers.Conv2D(64, (3,3), activation=\"relu\", input_shape=(299,299,3)))\r\n",
    "model.add(layers.MaxPool2D((2,2)))\r\n",
    "model.add(layers.Dropout(0.5))\r\n",
    "model.add(layers.Conv2D(64, (3,3), activation=\"relu\"))\r\n",
    "model.add(layers.Flatten())\r\n",
    "model.add(layers.Dense(32, activation=\"relu\"))\r\n",
    "model.add(layers.Dense(1, activation=\"sigmoid\"))"
   ],
   "outputs": [],
   "metadata": {}
  },
  {
   "cell_type": "code",
   "execution_count": 27,
   "source": [
    "model.summary()"
   ],
   "outputs": [
    {
     "output_type": "stream",
     "name": "stdout",
     "text": [
      "Model: \"sequential\"\n",
      "_________________________________________________________________\n",
      "Layer (type)                 Output Shape              Param #   \n",
      "=================================================================\n",
      "conv2d (Conv2D)              (None, 297, 297, 64)      1792      \n",
      "_________________________________________________________________\n",
      "max_pooling2d (MaxPooling2D) (None, 148, 148, 64)      0         \n",
      "_________________________________________________________________\n",
      "dropout (Dropout)            (None, 148, 148, 64)      0         \n",
      "_________________________________________________________________\n",
      "conv2d_1 (Conv2D)            (None, 146, 146, 64)      36928     \n",
      "_________________________________________________________________\n",
      "flatten (Flatten)            (None, 1364224)           0         \n",
      "_________________________________________________________________\n",
      "dense (Dense)                (None, 32)                43655200  \n",
      "_________________________________________________________________\n",
      "dense_1 (Dense)              (None, 1)                 33        \n",
      "=================================================================\n",
      "Total params: 43,693,953\n",
      "Trainable params: 43,693,953\n",
      "Non-trainable params: 0\n",
      "_________________________________________________________________\n"
     ]
    }
   ],
   "metadata": {}
  },
  {
   "cell_type": "code",
   "execution_count": 28,
   "source": [
    "opt = keras.optimizers.Adam(learning_rate=0.01)  #defines an optimizers with 0.01 learning rate. can change as training is done\r\n",
    "\r\n",
    "model.compile(\r\n",
    "    optimizer=opt,\r\n",
    "    loss=\"binary_crossentropy\",\r\n",
    "    metrics=[\"accuracy\"]\r\n",
    ")"
   ],
   "outputs": [],
   "metadata": {}
  },
  {
   "cell_type": "code",
   "execution_count": 29,
   "source": [
    "history = model.fit(\r\n",
    "    x=X,y=Y,\r\n",
    "    batch_size=64,\r\n",
    "    epochs=10,\r\n",
    "    validation_data=(val_data, val_label),\r\n",
    ")"
   ],
   "outputs": [
    {
     "output_type": "stream",
     "name": "stdout",
     "text": [
      "Epoch 1/10\n",
      "3/3 [==============================] - 213s 66s/step - loss: 283.3461 - accuracy: 0.5104 - val_loss: 0.6932 - val_accuracy: 0.5000\n",
      "Epoch 2/10\n",
      "3/3 [==============================] - 52s 17s/step - loss: 0.7419 - accuracy: 0.4740 - val_loss: 0.6932 - val_accuracy: 0.5000\n",
      "Epoch 3/10\n",
      "3/3 [==============================] - 64s 23s/step - loss: 0.6931 - accuracy: 0.5000 - val_loss: 0.6932 - val_accuracy: 0.5000\n",
      "Epoch 4/10\n",
      "3/3 [==============================] - 77s 32s/step - loss: 0.6933 - accuracy: 0.5000 - val_loss: 0.6932 - val_accuracy: 0.5000\n",
      "Epoch 5/10\n",
      "3/3 [==============================] - 53s 19s/step - loss: 0.6933 - accuracy: 0.5000 - val_loss: 0.6932 - val_accuracy: 0.5000\n",
      "Epoch 6/10\n",
      "3/3 [==============================] - 38s 13s/step - loss: 0.6931 - accuracy: 0.5000 - val_loss: 0.6933 - val_accuracy: 0.5000\n",
      "Epoch 7/10\n",
      "3/3 [==============================] - 41s 14s/step - loss: 0.6928 - accuracy: 0.5104 - val_loss: 0.6933 - val_accuracy: 0.5000\n",
      "Epoch 8/10\n",
      "3/3 [==============================] - 41s 14s/step - loss: 0.6850 - accuracy: 0.5000 - val_loss: 0.6920 - val_accuracy: 0.5000\n",
      "Epoch 9/10\n",
      "3/3 [==============================] - 41s 14s/step - loss: 0.6862 - accuracy: 0.5104 - val_loss: 0.6932 - val_accuracy: 0.5000\n",
      "Epoch 10/10\n",
      "3/3 [==============================] - 40s 13s/step - loss: 0.6932 - accuracy: 0.5000 - val_loss: 0.6932 - val_accuracy: 0.5000\n"
     ]
    }
   ],
   "metadata": {}
  },
  {
   "cell_type": "code",
   "execution_count": 30,
   "source": [
    "history_dict = history.history"
   ],
   "outputs": [],
   "metadata": {}
  },
  {
   "cell_type": "code",
   "execution_count": 31,
   "source": [
    "history_dict.keys()"
   ],
   "outputs": [
    {
     "output_type": "execute_result",
     "data": {
      "text/plain": [
       "dict_keys(['loss', 'accuracy', 'val_loss', 'val_accuracy'])"
      ]
     },
     "metadata": {},
     "execution_count": 31
    }
   ],
   "metadata": {}
  },
  {
   "cell_type": "code",
   "execution_count": 32,
   "source": [
    "#plot training and validation loss\r\n",
    "epochs = range(1,11)\r\n",
    "plt.plot(epochs, history_dict[\"loss\"],\"*\",label=\"training_loss\")\r\n",
    "plt.plot(epochs, history_dict[\"val_loss\"],\"b\", label=\"validation_loss\")\r\n",
    "plt.title(\"Training vs Validation Loss\")\r\n",
    "plt.xlabel(\"epochs\")\r\n",
    "plt.ylabel(\"loss\")\r\n",
    "plt.show()"
   ],
   "outputs": [
    {
     "output_type": "display_data",
     "data": {
      "image/png": "[encoded data removed]",
      "text/plain": [
       "<Figure size 432x288 with 1 Axes>"
      ]
     },
     "metadata": {
      "needs_background": "light"
     }
    }
   ],
   "metadata": {}
  },
  {
   "cell_type": "code",
   "execution_count": 33,
   "source": [
    "plt.plot(epochs, history_dict[\"accuracy\"],\"*\",label=\"training_accuracy\")\r\n",
    "plt.plot(epochs, history_dict[\"val_accuracy\"],\"b\", label=\"validation_accuracy\")\r\n",
    "plt.title(\"Training vs Validation Accuracy\")\r\n",
    "plt.xlabel(\"epochs\")\r\n",
    "plt.ylabel(\"accuracy\")\r\n",
    "plt.show()"
   ],
   "outputs": [
    {
     "output_type": "display_data",
     "data": {
      "image/png": "[encoded data removed]",
      "text/plain": [
       "<Figure size 432x288 with 1 Axes>"
      ]
     },
     "metadata": {
      "needs_background": "light"
     }
    }
   ],
   "metadata": {}
  },
  {
   "cell_type": "code",
   "execution_count": 34,
   "source": [
    "test_array = [image for image in test_df[\"image\"]]"
   ],
   "outputs": [],
   "metadata": {}
  },
  {
   "cell_type": "code",
   "execution_count": 35,
   "source": [
    "test_array[0].shape"
   ],
   "outputs": [
    {
     "output_type": "execute_result",
     "data": {
      "text/plain": [
       "(299, 299, 3)"
      ]
     },
     "metadata": {},
     "execution_count": 35
    }
   ],
   "metadata": {}
  },
  {
   "cell_type": "code",
   "execution_count": 36,
   "source": [
    "test_array = np.array([image.reshape(1,299,299,3) for image in test_array])"
   ],
   "outputs": [],
   "metadata": {}
  },
  {
   "cell_type": "code",
   "execution_count": 37,
   "source": [
    "predictions = []\r\n",
    "for image in test_array:\r\n",
    "    prediction = model.predict(image)\r\n",
    "    if prediction[0] >= 0.5:\r\n",
    "        predictions.append(1)\r\n",
    "    else:\r\n",
    "        predictions.append(0)"
   ],
   "outputs": [],
   "metadata": {}
  },
  {
   "cell_type": "code",
   "execution_count": 38,
   "source": [
    "actual = np.array([1,1,0,1,0,0,1,0,0,1])\r\n",
    "\r\n",
    "from sklearn.metrics import confusion_matrix"
   ],
   "outputs": [],
   "metadata": {}
  },
  {
   "cell_type": "code",
   "execution_count": 39,
   "source": [
    "mat = confusion_matrix(actual, predictions)\r\n",
    "\r\n",
    "message = f\"\"\"          Predcted 0   |   Predicted 1\r\n",
    "        ----------------------------------------\r\n",
    "        Actual 0 | {mat[0][0]}   |   {mat[0][1]}\r\n",
    "        ----------------------------------------\r\n",
    "        Actual 1 | {mat[1][0]}   |   {mat[1][1]}\"\"\""
   ],
   "outputs": [],
   "metadata": {}
  },
  {
   "cell_type": "code",
   "execution_count": 40,
   "source": [
    "print(message)"
   ],
   "outputs": [
    {
     "output_type": "stream",
     "name": "stdout",
     "text": [
      "          Predcted 0   |   Predicted 1\n",
      "        ----------------------------------------\n",
      "        Actual 0 | 5   |   0\n",
      "        ----------------------------------------\n",
      "        Actual 1 | 5   |   0\n"
     ]
    }
   ],
   "metadata": {}
  },
  {
   "cell_type": "code",
   "execution_count": 41,
   "source": [
    "model.save(\"clean_messy.h5\")"
   ],
   "outputs": [],
   "metadata": {}
  },
  {
   "cell_type": "code",
   "execution_count": 42,
   "source": [
    "predictions"
   ],
   "outputs": [
    {
     "output_type": "execute_result",
     "data": {
      "text/plain": [
       "[0, 0, 0, 0, 0, 0, 0, 0, 0, 0]"
      ]
     },
     "metadata": {},
     "execution_count": 42
    }
   ],
   "metadata": {}
  },
  {
   "cell_type": "code",
   "execution_count": 43,
   "source": [
    "from sklearn.metrics import classification_report"
   ],
   "outputs": [],
   "metadata": {}
  },
  {
   "cell_type": "code",
   "execution_count": 44,
   "source": [
    "print(classification_report(actual, predictions))"
   ],
   "outputs": [
    {
     "output_type": "stream",
     "name": "stdout",
     "text": [
      "              precision    recall  f1-score   support\n",
      "\n",
      "           0       0.50      1.00      0.67         5\n",
      "           1       0.00      0.00      0.00         5\n",
      "\n",
      "    accuracy                           0.50        10\n",
      "   macro avg       0.25      0.50      0.33        10\n",
      "weighted avg       0.25      0.50      0.33        10\n",
      "\n"
     ]
    },
    {
     "output_type": "stream",
     "name": "stderr",
     "text": [
      "C:\\Users\\KING TOMI\\AppData\\Local\\Programs\\Python\\Python39\\lib\\site-packages\\sklearn\\metrics\\_classification.py:1245: UndefinedMetricWarning: Precision and F-score are ill-defined and being set to 0.0 in labels with no predicted samples. Use `zero_division` parameter to control this behavior.\n",
      "  _warn_prf(average, modifier, msg_start, len(result))\n",
      "C:\\Users\\KING TOMI\\AppData\\Local\\Programs\\Python\\Python39\\lib\\site-packages\\sklearn\\metrics\\_classification.py:1245: UndefinedMetricWarning: Precision and F-score are ill-defined and being set to 0.0 in labels with no predicted samples. Use `zero_division` parameter to control this behavior.\n",
      "  _warn_prf(average, modifier, msg_start, len(result))\n",
      "C:\\Users\\KING TOMI\\AppData\\Local\\Programs\\Python\\Python39\\lib\\site-packages\\sklearn\\metrics\\_classification.py:1245: UndefinedMetricWarning: Precision and F-score are ill-defined and being set to 0.0 in labels with no predicted samples. Use `zero_division` parameter to control this behavior.\n",
      "  _warn_prf(average, modifier, msg_start, len(result))\n"
     ]
    }
   ],
   "metadata": {}
  },
  {
   "cell_type": "code",
   "execution_count": 45,
   "source": [
    "CLEAN_SAVED_MODEL = \"clean_messy_model\"\r\n",
    "import tensorflow as tf"
   ],
   "outputs": [],
   "metadata": {}
  },
  {
   "cell_type": "code",
   "execution_count": 46,
   "source": [
    "tf.saved_model.save(model, CLEAN_SAVED_MODEL)"
   ],
   "outputs": [
    {
     "output_type": "stream",
     "name": "stdout",
     "text": [
      "WARNING:tensorflow:FOR KERAS USERS: The object that you are saving contains one or more Keras models or layers. If you are loading the SavedModel with `tf.keras.models.load_model`, continue reading (otherwise, you may ignore the following instructions). Please change your code to save with `tf.keras.models.save_model` or `model.save`, and confirm that the file \"keras.metadata\" exists in the export directory. In the future, Keras will only load the SavedModels that have this file. In other words, `tf.saved_model.save` will no longer write SavedModels that can be recovered as Keras models (this will apply in TF 2.5).\n",
      "\n",
      "FOR DEVS: If you are overwriting _tracking_metadata in your class, this property has been used to save metadata in the SavedModel. The metadta field will be deprecated soon, so please move the metadata to a different file.\n",
      "INFO:tensorflow:Assets written to: clean_messy_model\\assets\n"
     ]
    }
   ],
   "metadata": {}
  },
  {
   "cell_type": "code",
   "execution_count": null,
   "source": [
    "converter = tf.lite.TFLiteConverter.from_saved_model(CLEAN_SAVED_MODEL)\r\n",
    "tflite_model = converter.convert()\r\n",
    "tflite_model_mobile = \"clean_messy_mobile.tflite\"\r\n",
    "\r\n",
    "with open(tflite_model_mobile, \"wb\") as f:\r\n",
    "    f.write(tflite_model)"
   ],
   "outputs": [],
   "metadata": {}
  },
  {
   "cell_type": "code",
   "execution_count": null,
   "source": [],
   "outputs": [],
   "metadata": {}
  }
 ]
}